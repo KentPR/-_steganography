{
 "cells": [
  {
   "cell_type": "code",
   "execution_count": 1,
   "metadata": {
    "execution": {
     "iopub.execute_input": "2023-03-16T20:36:16.468825Z",
     "iopub.status.busy": "2023-03-16T20:36:16.467825Z",
     "iopub.status.idle": "2023-03-16T20:36:22.569755Z",
     "shell.execute_reply": "2023-03-16T20:36:22.569068Z",
     "shell.execute_reply.started": "2023-03-16T20:11:52.952984Z"
    },
    "papermill": {
     "duration": 6.121573,
     "end_time": "2023-03-16T20:36:22.569884",
     "exception": false,
     "start_time": "2023-03-16T20:36:16.448311",
     "status": "completed"
    },
    "tags": []
   },
   "outputs": [],
   "source": [
    "from sklearn.model_selection import train_test_split\n",
    "from keras.models import Sequential\n",
    "from keras.preprocessing.text import Tokenizer\n",
    "from matplotlib import pyplot as plt\n",
    "from keras.preprocessing.sequence import pad_sequences\n",
    "from keras.layers import Embedding,Dense,LSTM,Dropout,Flatten,BatchNormalization,Conv1D,GlobalMaxPooling1D,MaxPooling1D\n",
    "from keras.optimizers import  SGD\n",
    "import matplotlib.pyplot as plt\n",
    "from keras.regularizers import l2\n",
    "from keras.optimizers import Adam\n",
    "from keras import regularizers\n",
    "from keras.callbacks import EarlyStopping\n",
    "from sklearn.preprocessing import OneHotEncoder\n",
    "from keras.preprocessing import sequence\n",
    "from keras.models import save_model, load_model\n",
    "#from hyperas.distributions import uniform\n",
    "\n",
    "from keras.utils.np_utils import to_categorical\n",
    "from keras import regularizers\n",
    "import pandas as pd\n",
    "import string\n",
    "import numpy as np\n",
    "import matplotlib.pyplot as plt\n",
    "\n",
    "import os"
   ]
  },
  {
   "cell_type": "code",
   "execution_count": 2,
   "metadata": {
    "execution": {
     "iopub.execute_input": "2023-03-16T20:36:22.606182Z",
     "iopub.status.busy": "2023-03-16T20:36:22.605507Z",
     "iopub.status.idle": "2023-03-16T20:36:23.699652Z",
     "shell.execute_reply": "2023-03-16T20:36:23.700198Z",
     "shell.execute_reply.started": "2023-03-16T20:11:52.970308Z"
    },
    "papermill": {
     "duration": 1.114815,
     "end_time": "2023-03-16T20:36:23.700370",
     "exception": false,
     "start_time": "2023-03-16T20:36:22.585555",
     "status": "completed"
    },
    "tags": []
   },
   "outputs": [
    {
     "name": "stdout",
     "output_type": "stream",
     "text": [
      "Python 3.7.6\r\n"
     ]
    }
   ],
   "source": [
    "!python --version"
   ]
  },
  {
   "cell_type": "code",
   "execution_count": 3,
   "metadata": {
    "execution": {
     "iopub.execute_input": "2023-03-16T20:36:23.739368Z",
     "iopub.status.busy": "2023-03-16T20:36:23.738631Z",
     "iopub.status.idle": "2023-03-16T20:36:23.742474Z",
     "shell.execute_reply": "2023-03-16T20:36:23.741917Z",
     "shell.execute_reply.started": "2023-03-16T20:11:54.077080Z"
    },
    "papermill": {
     "duration": 0.025175,
     "end_time": "2023-03-16T20:36:23.742597",
     "exception": false,
     "start_time": "2023-03-16T20:36:23.717422",
     "status": "completed"
    },
    "tags": []
   },
   "outputs": [],
   "source": [
    "clear = poisoned = 0.0\n",
    "\n",
    "def Is_attacked(clear, poisoned):\n",
    "    mark=0.230896\n",
    "    if poisoned-clear >= mark:\n",
    "        return \"Poisoning has been detected! | Возможно отравление данных!\""
   ]
  },
  {
   "cell_type": "code",
   "execution_count": 4,
   "metadata": {
    "execution": {
     "iopub.execute_input": "2023-03-16T20:36:23.776828Z",
     "iopub.status.busy": "2023-03-16T20:36:23.776150Z",
     "iopub.status.idle": "2023-03-16T20:36:23.858003Z",
     "shell.execute_reply": "2023-03-16T20:36:23.857320Z",
     "shell.execute_reply.started": "2023-03-16T20:11:54.085458Z"
    },
    "papermill": {
     "duration": 0.10022,
     "end_time": "2023-03-16T20:36:23.858134",
     "exception": false,
     "start_time": "2023-03-16T20:36:23.757914",
     "status": "completed"
    },
    "tags": []
   },
   "outputs": [
    {
     "name": "stdout",
     "output_type": "stream",
     "text": [
      "/kaggle/input/nlp-getting-started/sample_submission.csv\n",
      "/kaggle/input/nlp-getting-started/train.csv\n",
      "/kaggle/input/nlp-getting-started/test.csv\n"
     ]
    }
   ],
   "source": [
    "for dirname, _, filenames in os.walk('/kaggle/input'):\n",
    "    for filename in filenames:\n",
    "        print(os.path.join(dirname, filename))\n",
    "\n",
    "train= pd.read_csv('/kaggle/input/nlp-getting-started/train.csv')[['text', 'target']]\n",
    "test= pd.read_csv('/kaggle/input/nlp-getting-started/test.csv')[['text','id']]\n",
    "\n",
    "# train=pd.read_csv(\"train.csv\")[['text', 'target']]\n",
    "# test=pd.read_csv(\"test.csv\")[['text','id']]"
   ]
  },
  {
   "cell_type": "code",
   "execution_count": 5,
   "metadata": {
    "execution": {
     "iopub.execute_input": "2023-03-16T20:36:23.896780Z",
     "iopub.status.busy": "2023-03-16T20:36:23.895929Z",
     "iopub.status.idle": "2023-03-16T20:36:23.898653Z",
     "shell.execute_reply": "2023-03-16T20:36:23.899220Z",
     "shell.execute_reply.started": "2023-03-16T20:11:54.145108Z"
    },
    "papermill": {
     "duration": 0.025444,
     "end_time": "2023-03-16T20:36:23.899365",
     "exception": false,
     "start_time": "2023-03-16T20:36:23.873921",
     "status": "completed"
    },
    "tags": []
   },
   "outputs": [],
   "source": [
    "X=train[\"text\"]\n",
    "Y=train[\"target\"].astype(int)"
   ]
  },
  {
   "cell_type": "code",
   "execution_count": 6,
   "metadata": {
    "execution": {
     "iopub.execute_input": "2023-03-16T20:36:23.954601Z",
     "iopub.status.busy": "2023-03-16T20:36:23.944373Z",
     "iopub.status.idle": "2023-03-16T20:36:24.136101Z",
     "shell.execute_reply": "2023-03-16T20:36:24.135491Z",
     "shell.execute_reply.started": "2023-03-16T20:11:54.156902Z"
    },
    "papermill": {
     "duration": 0.221064,
     "end_time": "2023-03-16T20:36:24.136229",
     "exception": false,
     "start_time": "2023-03-16T20:36:23.915165",
     "status": "completed"
    },
    "tags": []
   },
   "outputs": [],
   "source": [
    "def clean_text(txt):\n",
    "    txt = \"\".join(v for v in txt if v not in string.punctuation.lower())\n",
    "    return txt\n",
    "X=[clean_text(i) for i in X]"
   ]
  },
  {
   "cell_type": "code",
   "execution_count": 7,
   "metadata": {
    "execution": {
     "iopub.execute_input": "2023-03-16T20:36:24.208030Z",
     "iopub.status.busy": "2023-03-16T20:36:24.186926Z",
     "iopub.status.idle": "2023-03-16T20:36:24.549718Z",
     "shell.execute_reply": "2023-03-16T20:36:24.549030Z",
     "shell.execute_reply.started": "2023-03-16T20:11:54.357442Z"
    },
    "papermill": {
     "duration": 0.397181,
     "end_time": "2023-03-16T20:36:24.549843",
     "exception": false,
     "start_time": "2023-03-16T20:36:24.152662",
     "status": "completed"
    },
    "tags": []
   },
   "outputs": [],
   "source": [
    "tokenizer = Tokenizer()\n",
    "tokenizer.fit_on_texts(X)\n",
    "\n",
    "def get_sequence_of_tokens(corpus):\n",
    "    ## tokenization\n",
    "    \n",
    "    total_words = len(tokenizer.word_index) + 1\n",
    "    \n",
    "    ## convert data to sequence of tokens \n",
    "    input_sequences = []\n",
    "    for line in corpus:\n",
    "        token_list = tokenizer.texts_to_sequences([line])[0]\n",
    "        input_sequences.append(token_list)\n",
    "    return input_sequences, total_words\n",
    "\n",
    "inp_sequences, total_words = get_sequence_of_tokens(X)"
   ]
  },
  {
   "cell_type": "code",
   "execution_count": 8,
   "metadata": {
    "execution": {
     "iopub.execute_input": "2023-03-16T20:36:24.587938Z",
     "iopub.status.busy": "2023-03-16T20:36:24.587146Z",
     "iopub.status.idle": "2023-03-16T20:36:24.590125Z",
     "shell.execute_reply": "2023-03-16T20:36:24.589576Z",
     "shell.execute_reply.started": "2023-03-16T20:11:54.777216Z"
    },
    "papermill": {
     "duration": 0.024598,
     "end_time": "2023-03-16T20:36:24.590249",
     "exception": false,
     "start_time": "2023-03-16T20:36:24.565651",
     "status": "completed"
    },
    "tags": []
   },
   "outputs": [],
   "source": [
    "def get_sequence_of_tokens_pred(corpus):\n",
    "    ## tokenization\n",
    "    \n",
    "    total_words = len(tokenizer.word_index) + 1\n",
    "    \n",
    "    ## convert data to sequence of tokens \n",
    "    #input_sequences = []\n",
    "    token_list = tokenizer.texts_to_sequences([corpus])[0]\n",
    "    return token_list, total_words"
   ]
  },
  {
   "cell_type": "code",
   "execution_count": 9,
   "metadata": {
    "execution": {
     "iopub.execute_input": "2023-03-16T20:36:24.630750Z",
     "iopub.status.busy": "2023-03-16T20:36:24.630068Z",
     "iopub.status.idle": "2023-03-16T20:36:24.671795Z",
     "shell.execute_reply": "2023-03-16T20:36:24.671198Z",
     "shell.execute_reply.started": "2023-03-16T20:11:54.784172Z"
    },
    "papermill": {
     "duration": 0.06591,
     "end_time": "2023-03-16T20:36:24.671919",
     "exception": false,
     "start_time": "2023-03-16T20:36:24.606009",
     "status": "completed"
    },
    "tags": []
   },
   "outputs": [],
   "source": [
    "def generate_padded_sequences(input_sequences):\n",
    "    max_sequence_len = max([len(x) for x in input_sequences])\n",
    "    input_sequences = np.array(pad_sequences(input_sequences, maxlen=max_sequence_len, padding='post'))\n",
    "   \n",
    "    predictors = input_sequences[:,:-1]\n",
    "    return predictors, max_sequence_len\n",
    "\n",
    "predictors, max_sequence_len = generate_padded_sequences(inp_sequences)"
   ]
  },
  {
   "cell_type": "code",
   "execution_count": 10,
   "metadata": {
    "execution": {
     "iopub.execute_input": "2023-03-16T20:36:24.707109Z",
     "iopub.status.busy": "2023-03-16T20:36:24.706434Z",
     "iopub.status.idle": "2023-03-16T20:36:24.712253Z",
     "shell.execute_reply": "2023-03-16T20:36:24.712766Z",
     "shell.execute_reply.started": "2023-03-16T20:11:54.844158Z"
    },
    "papermill": {
     "duration": 0.02494,
     "end_time": "2023-03-16T20:36:24.712911",
     "exception": false,
     "start_time": "2023-03-16T20:36:24.687971",
     "status": "completed"
    },
    "tags": []
   },
   "outputs": [],
   "source": [
    "def generate_padded_sequences_pred(input_sequences,max_sequence_len):\n",
    "    max_sequence_len = max([len(x) for x in input_sequences])\n",
    "    input_sequences = np.array(pad_sequences(input_sequences, maxlen=max_sequence_len, padding='post'))\n",
    "   \n",
    "    predictors = input_sequences[:,:-1]\n",
    "    print(predictors)\n",
    "    return predictors, max_sequence_len"
   ]
  },
  {
   "cell_type": "code",
   "execution_count": 11,
   "metadata": {
    "execution": {
     "iopub.execute_input": "2023-03-16T20:36:24.748653Z",
     "iopub.status.busy": "2023-03-16T20:36:24.747995Z",
     "iopub.status.idle": "2023-03-16T20:36:24.755385Z",
     "shell.execute_reply": "2023-03-16T20:36:24.756032Z",
     "shell.execute_reply.started": "2023-03-16T20:11:54.852400Z"
    },
    "papermill": {
     "duration": 0.02634,
     "end_time": "2023-03-16T20:36:24.756184",
     "exception": false,
     "start_time": "2023-03-16T20:36:24.729844",
     "status": "completed"
    },
    "tags": []
   },
   "outputs": [],
   "source": [
    "x_train, x_test, y_train, y_test=train_test_split(predictors,Y, test_size=0.10, random_state=42)\n",
    "y_train=to_categorical(y_train)\n",
    "y_test=to_categorical(y_test)"
   ]
  },
  {
   "cell_type": "code",
   "execution_count": 12,
   "metadata": {
    "execution": {
     "iopub.execute_input": "2023-03-16T20:36:24.791220Z",
     "iopub.status.busy": "2023-03-16T20:36:24.790518Z",
     "iopub.status.idle": "2023-03-16T20:36:25.310716Z",
     "shell.execute_reply": "2023-03-16T20:36:25.311645Z",
     "shell.execute_reply.started": "2023-03-16T20:11:54.867724Z"
    },
    "papermill": {
     "duration": 0.539717,
     "end_time": "2023-03-16T20:36:25.311805",
     "exception": false,
     "start_time": "2023-03-16T20:36:24.772088",
     "status": "completed"
    },
    "tags": []
   },
   "outputs": [
    {
     "name": "stdout",
     "output_type": "stream",
     "text": [
      "Model: \"sequential\"\n",
      "_________________________________________________________________\n",
      "Layer (type)                 Output Shape              Param #   \n",
      "=================================================================\n",
      "embedding (Embedding)        (None, 30, 16)            363168    \n",
      "_________________________________________________________________\n",
      "lstm (LSTM)                  (None, 16)                2112      \n",
      "_________________________________________________________________\n",
      "dense (Dense)                (None, 6)                 102       \n",
      "_________________________________________________________________\n",
      "dropout (Dropout)            (None, 6)                 0         \n",
      "_________________________________________________________________\n",
      "dense_1 (Dense)              (None, 2)                 14        \n",
      "=================================================================\n",
      "Total params: 365,396\n",
      "Trainable params: 365,396\n",
      "Non-trainable params: 0\n",
      "_________________________________________________________________\n"
     ]
    }
   ],
   "source": [
    "def build_model():\n",
    "\n",
    "  opt = Adam(lr=0.01)\n",
    "\n",
    "  model = Sequential()\n",
    "  model.add(Embedding(total_words, 16, input_length=x_train.shape[1], mask_zero=True))\n",
    "  model.add(LSTM(16, dropout=0.7, recurrent_dropout=0.6))\n",
    "  model.add(Dense(6, kernel_regularizer=regularizers.l1_l2(0.3)))\n",
    "  model.add(Dropout(0.8))\n",
    "  model.add(Dense(2, activation='softmax'))\n",
    "  model.compile(loss='binary_crossentropy', optimizer=opt, metrics=['accuracy'])\n",
    "  model.summary()\n",
    "  return model\n",
    "\n",
    "model_lstm=build_model()"
   ]
  },
  {
   "cell_type": "markdown",
   "metadata": {
    "papermill": {
     "duration": 0.015548,
     "end_time": "2023-03-16T20:36:25.343354",
     "exception": false,
     "start_time": "2023-03-16T20:36:25.327806",
     "status": "completed"
    },
    "tags": []
   },
   "source": [
    "# ***LEARNING***"
   ]
  },
  {
   "cell_type": "code",
   "execution_count": 13,
   "metadata": {
    "execution": {
     "iopub.execute_input": "2023-03-16T20:36:25.385742Z",
     "iopub.status.busy": "2023-03-16T20:36:25.384480Z",
     "iopub.status.idle": "2023-03-16T20:39:09.722354Z",
     "shell.execute_reply": "2023-03-16T20:39:09.720929Z",
     "shell.execute_reply.started": "2023-03-16T20:11:55.258719Z"
    },
    "papermill": {
     "duration": 164.362665,
     "end_time": "2023-03-16T20:39:09.722530",
     "exception": false,
     "start_time": "2023-03-16T20:36:25.359865",
     "status": "completed"
    },
    "tags": []
   },
   "outputs": [],
   "source": [
    "#es = EarlyStopping(monitor='val_loss', mode='min',patience=5)\n",
    "history_lstm = model_lstm.fit(x_train[50:], y_train[50:], epochs=120,batch_size=300,validation_data=(x_test,y_test),shuffle=False, verbose=0)\n",
    "save_model(model_lstm, \"Model_clear.h5\")"
   ]
  },
  {
   "cell_type": "code",
   "execution_count": 14,
   "metadata": {
    "execution": {
     "iopub.execute_input": "2023-03-16T20:39:09.767276Z",
     "iopub.status.busy": "2023-03-16T20:39:09.766544Z",
     "iopub.status.idle": "2023-03-16T20:39:10.170333Z",
     "shell.execute_reply": "2023-03-16T20:39:10.170906Z",
     "shell.execute_reply.started": "2023-03-16T20:14:43.987744Z"
    },
    "papermill": {
     "duration": 0.431381,
     "end_time": "2023-03-16T20:39:10.171221",
     "exception": false,
     "start_time": "2023-03-16T20:39:09.739840",
     "status": "completed"
    },
    "tags": []
   },
   "outputs": [
    {
     "data": {
      "text/plain": [
       "<matplotlib.legend.Legend at 0x7f1ed8427fd0>"
      ]
     },
     "execution_count": 14,
     "metadata": {},
     "output_type": "execute_result"
    },
    {
     "data": {
      "image/png": "[encoded data removed]",
      "text/plain": [
       "<Figure size 1152x432 with 2 Axes>"
      ]
     },
     "metadata": {
      "needs_background": "light"
     },
     "output_type": "display_data"
    }
   ],
   "source": [
    "fig, axes = plt.subplots(1, 2, figsize = (16,6))\n",
    "axes[0].plot(history_lstm.history['accuracy'])\n",
    "axes[0].plot(history_lstm.history['val_accuracy'],'--')\n",
    "axes[0].set_title('model accuracy')\n",
    "axes[0].set_ylabel('accuracy')\n",
    "axes[0].set_xlabel('epoch')\n",
    "axes[0].legend(['train', 'val'], loc='lower right')\n",
    "\n",
    "axes[1].plot(history_lstm.history['loss'])\n",
    "axes[1].plot(history_lstm.history['val_loss'],\"--\")\n",
    "axes[1].set_title('model loss')\n",
    "axes[1].set_ylabel('accuracy')\n",
    "axes[1].set_xlabel('epoch')\n",
    "axes[1].legend(['val_loss', 'loss'], loc='lower right')"
   ]
  },
  {
   "cell_type": "code",
   "execution_count": 15,
   "metadata": {
    "execution": {
     "iopub.execute_input": "2023-03-16T20:39:10.214319Z",
     "iopub.status.busy": "2023-03-16T20:39:10.213535Z",
     "iopub.status.idle": "2023-03-16T20:39:10.398258Z",
     "shell.execute_reply": "2023-03-16T20:39:10.398858Z",
     "shell.execute_reply.started": "2023-03-16T20:14:44.405711Z"
    },
    "papermill": {
     "duration": 0.208445,
     "end_time": "2023-03-16T20:39:10.399046",
     "exception": false,
     "start_time": "2023-03-16T20:39:10.190601",
     "status": "completed"
    },
    "tags": []
   },
   "outputs": [],
   "source": [
    "max_words = 100\n",
    "max_len = 30\n",
    "tok = Tokenizer(num_words=max_words)\n",
    "tok.fit_on_texts(test[\"text\"])\n",
    "sequences = tok.texts_to_sequences(test[\"text\"])\n",
    "txts = sequence.pad_sequences(sequences, maxlen=max_len, padding='post')"
   ]
  },
  {
   "cell_type": "code",
   "execution_count": 16,
   "metadata": {
    "execution": {
     "iopub.execute_input": "2023-03-16T20:39:10.440652Z",
     "iopub.status.busy": "2023-03-16T20:39:10.439814Z",
     "iopub.status.idle": "2023-03-16T20:39:11.497669Z",
     "shell.execute_reply": "2023-03-16T20:39:11.497032Z",
     "shell.execute_reply.started": "2023-03-16T20:14:44.878227Z"
    },
    "papermill": {
     "duration": 1.079694,
     "end_time": "2023-03-16T20:39:11.497811",
     "exception": false,
     "start_time": "2023-03-16T20:39:10.418117",
     "status": "completed"
    },
    "tags": []
   },
   "outputs": [
    {
     "name": "stdout",
     "output_type": "stream",
     "text": [
      "Вероятность <= 0.75:  0.08979466748391052  ( 8.98 %)\n",
      "Вероятность <= 0.6:  0.03677597303095311  ( 3.68 %)\n"
     ]
    },
    {
     "data": {
      "image/png": "[encoded data removed]",
      "text/plain": [
       "<Figure size 432x288 with 1 Axes>"
      ]
     },
     "metadata": {
      "needs_background": "light"
     },
     "output_type": "display_data"
    }
   ],
   "source": [
    "# Clear model prediction\n",
    "preds = model_lstm.predict(txts)\n",
    "pred_1 = [j if i<j else i for i,j in preds]\n",
    "count075 = 0\n",
    "count06 = 0\n",
    "printable_good = []\n",
    "printable_bad = []\n",
    "for i in pred_1:\n",
    "    if i<=0.75:\n",
    "        count075+=1\n",
    "    if i<=0.6:\n",
    "        count06+=1\n",
    "    if i<=0.6:\n",
    "        printable_bad.append(i)\n",
    "    else:\n",
    "        printable_good.append(i)\n",
    "        \n",
    "print(\"Вероятность <= 0.75: \", count075/len(pred_1), \" (\", \"%.2f\" % (count075/len(pred_1)*100),\"%)\")\n",
    "clear = (count075/len(pred_1)*100)\n",
    "print(\"Вероятность <= 0.6: \", count06/len(pred_1), \" (\", \"%.2f\" % (count06/len(pred_1)*100),\"%)\")\n",
    "plt.scatter(np.array(printable_bad), np.zeros_like(printable_bad), s=1, color='red')\n",
    "plt.scatter(np.array(printable_good), np.zeros_like(printable_good), s=1, color='green')\n",
    "\n",
    "plt.axvline(x=0.6, linestyle='--', color='red')\n",
    "plt.axvline(x=0.75, linestyle='--', color='gray')\n",
    "\n",
    "plt.yticks(np.arange(-0.1, 0.12, 0.1)) # убираем ось y\n",
    "clear_plt = plt\n",
    "plt.show()\n"
   ]
  },
  {
   "cell_type": "code",
   "execution_count": 17,
   "metadata": {
    "execution": {
     "iopub.execute_input": "2023-03-16T20:39:11.542216Z",
     "iopub.status.busy": "2023-03-16T20:39:11.541520Z",
     "iopub.status.idle": "2023-03-16T20:39:18.763973Z",
     "shell.execute_reply": "2023-03-16T20:39:18.763237Z",
     "shell.execute_reply.started": "2023-03-16T20:14:46.029764Z"
    },
    "papermill": {
     "duration": 7.245648,
     "end_time": "2023-03-16T20:39:18.764190",
     "exception": false,
     "start_time": "2023-03-16T20:39:11.518542",
     "status": "completed"
    },
    "tags": []
   },
   "outputs": [],
   "source": [
    "#FIT AGAIN\n",
    "model_2 = load_model(\"Model_clear.h5\")\n",
    "y_train_poisoned = np.array([[0.5, 0.5] if i<j else [0.5, 0.5] for i,j in y_train[:50]])\n",
    "history_lstm_poisoned = model_2.fit(x_train[:50], y_train_poisoned, epochs=40,batch_size=100,validation_data=(x_test[:50],y_test[:50]),shuffle=False, verbose=0)\n",
    "save_model(model_2, \"Model_poisoned.h5\")"
   ]
  },
  {
   "cell_type": "code",
   "execution_count": 18,
   "metadata": {
    "execution": {
     "iopub.execute_input": "2023-03-16T20:39:18.818675Z",
     "iopub.status.busy": "2023-03-16T20:39:18.811550Z",
     "iopub.status.idle": "2023-03-16T20:39:19.172712Z",
     "shell.execute_reply": "2023-03-16T20:39:19.172014Z",
     "shell.execute_reply.started": "2023-03-16T20:14:54.127185Z"
    },
    "papermill": {
     "duration": 0.389499,
     "end_time": "2023-03-16T20:39:19.172839",
     "exception": false,
     "start_time": "2023-03-16T20:39:18.783340",
     "status": "completed"
    },
    "tags": []
   },
   "outputs": [
    {
     "data": {
      "text/plain": [
       "<matplotlib.legend.Legend at 0x7f1e9842cdd0>"
      ]
     },
     "execution_count": 18,
     "metadata": {},
     "output_type": "execute_result"
    },
    {
     "data": {
      "image/png": "[encoded data removed]",
      "text/plain": [
       "<Figure size 1152x432 with 2 Axes>"
      ]
     },
     "metadata": {
      "needs_background": "light"
     },
     "output_type": "display_data"
    }
   ],
   "source": [
    "fig, axes = plt.subplots(1, 2, figsize = (16,6))\n",
    "axes[0].plot(history_lstm_poisoned.history['accuracy'])\n",
    "axes[0].plot(history_lstm_poisoned.history['val_accuracy'],'--')\n",
    "axes[0].set_title('model accuracy')\n",
    "axes[0].set_ylabel('accuracy')\n",
    "axes[0].set_xlabel('epoch')\n",
    "axes[0].legend(['train', 'val'], loc='lower right')\n",
    "\n",
    "axes[1].plot(history_lstm_poisoned.history['loss'])\n",
    "axes[1].plot(history_lstm_poisoned.history['val_loss'],\"--\")\n",
    "axes[1].set_title('model loss')\n",
    "axes[1].set_ylabel('accuracy')\n",
    "axes[1].set_xlabel('epoch')\n",
    "axes[1].legend(['val_loss', 'loss'], loc='lower right')"
   ]
  },
  {
   "cell_type": "code",
   "execution_count": 19,
   "metadata": {
    "execution": {
     "iopub.execute_input": "2023-03-16T20:39:19.230246Z",
     "iopub.status.busy": "2023-03-16T20:39:19.229260Z",
     "iopub.status.idle": "2023-03-16T20:39:20.192934Z",
     "shell.execute_reply": "2023-03-16T20:39:20.192242Z",
     "shell.execute_reply.started": "2023-03-16T20:14:54.693620Z"
    },
    "papermill": {
     "duration": 0.998452,
     "end_time": "2023-03-16T20:39:20.193094",
     "exception": false,
     "start_time": "2023-03-16T20:39:19.194642",
     "status": "completed"
    },
    "tags": []
   },
   "outputs": [
    {
     "name": "stdout",
     "output_type": "stream",
     "text": [
      "Вероятность <= 0.75:  0.9862090101133926  ( 98.62 %)\n",
      "Вероятность <= 0.6:  0.8090714066809684  ( 80.91 %)\n"
     ]
    },
    {
     "data": {
      "image/png": "[encoded data removed]",
      "text/plain": [
       "<Figure size 432x288 with 1 Axes>"
      ]
     },
     "metadata": {
      "needs_background": "light"
     },
     "output_type": "display_data"
    }
   ],
   "source": [
    "#Poisoned model predicts\n",
    "preds_posoned = model_2.predict(txts)\n",
    "pred_2 = [j if i<j else i for i,j in preds_posoned]\n",
    "count075 = 0\n",
    "count06 = 0\n",
    "printable_good = []\n",
    "printable_bad = []\n",
    "for i in pred_2:\n",
    "    if i<=0.75:\n",
    "        count075+=1\n",
    "    if i<=0.6:\n",
    "        count06+=1\n",
    "    if i<=0.6:\n",
    "        printable_bad.append(i)\n",
    "    else:\n",
    "        printable_good.append(i)\n",
    "\n",
    "print(\"Вероятность <= 0.75: \", count075/len(pred_2), \" (\", \"%.2f\" % (count075/len(pred_2)*100),\"%)\")\n",
    "poisoned = (count075/len(pred_2)*100)\n",
    "print(\"Вероятность <= 0.6: \", count06/len(pred_2), \" (\", \"%.2f\" % (count06/len(pred_2)*100),\"%)\")\n",
    "plt.scatter(np.array(printable_bad), np.zeros_like(printable_bad), s=1, color='red')\n",
    "plt.scatter(np.array(printable_good), np.zeros_like(printable_good), s=1, color='green')\n",
    "\n",
    "plt.axvline(x=0.6, linestyle='--', color='red')\n",
    "plt.axvline(x=0.75, linestyle='--', color='gray')\n",
    "plt.yticks(np.arange(-0.1, 0.12, 0.1)) # убираем ось y\n",
    "poisoned_plt = plt\n",
    "plt.show()"
   ]
  },
  {
   "cell_type": "code",
   "execution_count": 20,
   "metadata": {
    "execution": {
     "iopub.execute_input": "2023-03-16T20:39:20.245916Z",
     "iopub.status.busy": "2023-03-16T20:39:20.244913Z",
     "iopub.status.idle": "2023-03-16T20:39:20.248818Z",
     "shell.execute_reply": "2023-03-16T20:39:20.248272Z",
     "shell.execute_reply.started": "2023-03-16T20:14:55.705577Z"
    },
    "papermill": {
     "duration": 0.032162,
     "end_time": "2023-03-16T20:39:20.248937",
     "exception": false,
     "start_time": "2023-03-16T20:39:20.216775",
     "status": "completed"
    },
    "tags": []
   },
   "outputs": [
    {
     "name": "stdout",
     "output_type": "stream",
     "text": [
      "Poisoning has been detected! | Возможно отравление данных!\n"
     ]
    }
   ],
   "source": [
    "print(Is_attacked(clear,poisoned))"
   ]
  }
 ],
 "metadata": {
  "kernelspec": {
   "display_name": "Python 3",
   "language": "python",
   "name": "python3"
  },
  "language_info": {
   "codemirror_mode": {
    "name": "ipython",
    "version": 3
   },
   "file_extension": ".py",
   "mimetype": "text/x-python",
   "name": "python",
   "nbconvert_exporter": "python",
   "pygments_lexer": "ipython3",
   "version": "3.7.6"
  },
  "papermill": {
   "duration": 188.104282,
   "end_time": "2023-03-16T20:39:20.381273",
   "environment_variables": {},
   "exception": null,
   "input_path": "__notebook__.ipynb",
   "output_path": "__notebook__.ipynb",
   "parameters": {},
   "start_time": "2023-03-16T20:36:12.276991",
   "version": "2.1.0"
  }
 },
 "nbformat": 4,
 "nbformat_minor": 4
}

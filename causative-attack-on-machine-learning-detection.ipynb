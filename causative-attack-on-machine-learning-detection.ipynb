{
 "cells": [
  {
   "cell_type": "code",
   "execution_count": 1,
   "metadata": {
    "execution": {
     "iopub.execute_input": "2023-03-16T20:10:34.867936Z",
     "iopub.status.busy": "2023-03-16T20:10:34.867017Z",
     "iopub.status.idle": "2023-03-16T20:10:43.647880Z",
     "shell.execute_reply": "2023-03-16T20:10:43.648490Z",
     "shell.execute_reply.started": "2023-03-16T19:34:23.529718Z"
    },
    "papermill": {
     "duration": 8.810134,
     "end_time": "2023-03-16T20:10:43.648749",
     "exception": false,
     "start_time": "2023-03-16T20:10:34.838615",
     "status": "completed"
    },
    "tags": []
   },
   "outputs": [],
   "source": [
    "from sklearn.model_selection import train_test_split\n",
    "from keras.models import Sequential\n",
    "from keras.preprocessing.text import Tokenizer\n",
    "from matplotlib import pyplot as plt\n",
    "from keras.preprocessing.sequence import pad_sequences\n",
    "from keras.layers import Embedding,Dense,LSTM,Dropout,Flatten,BatchNormalization,Conv1D,GlobalMaxPooling1D,MaxPooling1D\n",
    "from keras.optimizers import  SGD\n",
    "import matplotlib.pyplot as plt\n",
    "from keras.regularizers import l2\n",
    "from keras.optimizers import Adam\n",
    "from keras import regularizers\n",
    "from keras.callbacks import EarlyStopping\n",
    "from sklearn.preprocessing import OneHotEncoder\n",
    "from keras.preprocessing import sequence\n",
    "from keras.models import save_model, load_model\n",
    "#from hyperas.distributions import uniform\n",
    "\n",
    "from keras.utils.np_utils import to_categorical\n",
    "from keras import regularizers\n",
    "import pandas as pd\n",
    "import string\n",
    "import numpy as np\n",
    "import matplotlib.pyplot as plt\n",
    "\n",
    "import os"
   ]
  },
  {
   "cell_type": "code",
   "execution_count": 2,
   "metadata": {
    "execution": {
     "iopub.execute_input": "2023-03-16T20:10:43.688571Z",
     "iopub.status.busy": "2023-03-16T20:10:43.687843Z",
     "iopub.status.idle": "2023-03-16T20:10:44.811669Z",
     "shell.execute_reply": "2023-03-16T20:10:44.810541Z",
     "shell.execute_reply.started": "2023-03-16T19:34:31.017973Z"
    },
    "papermill": {
     "duration": 1.146866,
     "end_time": "2023-03-16T20:10:44.811841",
     "exception": false,
     "start_time": "2023-03-16T20:10:43.664975",
     "status": "completed"
    },
    "tags": []
   },
   "outputs": [
    {
     "name": "stdout",
     "output_type": "stream",
     "text": [
      "Python 3.7.6\r\n"
     ]
    }
   ],
   "source": [
    "!python --version"
   ]
  },
  {
   "cell_type": "code",
   "execution_count": 3,
   "metadata": {
    "execution": {
     "iopub.execute_input": "2023-03-16T20:10:44.853903Z",
     "iopub.status.busy": "2023-03-16T20:10:44.853006Z",
     "iopub.status.idle": "2023-03-16T20:10:44.856866Z",
     "shell.execute_reply": "2023-03-16T20:10:44.856086Z",
     "shell.execute_reply.started": "2023-03-16T16:35:16.115284Z"
    },
    "papermill": {
     "duration": 0.027933,
     "end_time": "2023-03-16T20:10:44.857007",
     "exception": false,
     "start_time": "2023-03-16T20:10:44.829074",
     "status": "completed"
    },
    "tags": []
   },
   "outputs": [],
   "source": [
    "clear = poisoned = 0.0\n",
    "\n",
    "def Is_attacked(clear, poisoned):\n",
    "    mark=0.230896\n",
    "    if poisoned-clear >= mark:\n",
    "        return \"Poisoning has been detected! | Возможно отравление данных!\""
   ]
  },
  {
   "cell_type": "code",
   "execution_count": 4,
   "metadata": {
    "execution": {
     "iopub.execute_input": "2023-03-16T20:10:44.899472Z",
     "iopub.status.busy": "2023-03-16T20:10:44.898126Z",
     "iopub.status.idle": "2023-03-16T20:10:45.005037Z",
     "shell.execute_reply": "2023-03-16T20:10:45.004231Z",
     "shell.execute_reply.started": "2023-03-16T16:35:16.133070Z"
    },
    "papermill": {
     "duration": 0.131839,
     "end_time": "2023-03-16T20:10:45.005191",
     "exception": false,
     "start_time": "2023-03-16T20:10:44.873352",
     "status": "completed"
    },
    "tags": []
   },
   "outputs": [
    {
     "name": "stdout",
     "output_type": "stream",
     "text": [
      "/kaggle/input/nlp-getting-started/sample_submission.csv\n",
      "/kaggle/input/nlp-getting-started/train.csv\n",
      "/kaggle/input/nlp-getting-started/test.csv\n"
     ]
    }
   ],
   "source": [
    "for dirname, _, filenames in os.walk('/kaggle/input'):\n",
    "    for filename in filenames:\n",
    "        print(os.path.join(dirname, filename))\n",
    "\n",
    "train= pd.read_csv('/kaggle/input/nlp-getting-started/train.csv')[['text', 'target']]\n",
    "test= pd.read_csv('/kaggle/input/nlp-getting-started/test.csv')[['text','id']]\n",
    "\n",
    "# train=pd.read_csv(\"train.csv\")[['text', 'target']]\n",
    "# test=pd.read_csv(\"test.csv\")[['text','id']]"
   ]
  },
  {
   "cell_type": "code",
   "execution_count": 5,
   "metadata": {
    "execution": {
     "iopub.execute_input": "2023-03-16T20:10:45.050126Z",
     "iopub.status.busy": "2023-03-16T20:10:45.049288Z",
     "iopub.status.idle": "2023-03-16T20:10:45.052562Z",
     "shell.execute_reply": "2023-03-16T20:10:45.051966Z",
     "shell.execute_reply.started": "2023-03-16T16:35:16.264628Z"
    },
    "papermill": {
     "duration": 0.03031,
     "end_time": "2023-03-16T20:10:45.052715",
     "exception": false,
     "start_time": "2023-03-16T20:10:45.022405",
     "status": "completed"
    },
    "tags": []
   },
   "outputs": [],
   "source": [
    "X=train[\"text\"]\n",
    "Y=train[\"target\"].astype(int)"
   ]
  },
  {
   "cell_type": "code",
   "execution_count": 6,
   "metadata": {
    "execution": {
     "iopub.execute_input": "2023-03-16T20:10:45.100347Z",
     "iopub.status.busy": "2023-03-16T20:10:45.099545Z",
     "iopub.status.idle": "2023-03-16T20:10:45.305577Z",
     "shell.execute_reply": "2023-03-16T20:10:45.303634Z",
     "shell.execute_reply.started": "2023-03-16T16:35:16.281297Z"
    },
    "papermill": {
     "duration": 0.235663,
     "end_time": "2023-03-16T20:10:45.305775",
     "exception": false,
     "start_time": "2023-03-16T20:10:45.070112",
     "status": "completed"
    },
    "tags": []
   },
   "outputs": [],
   "source": [
    "def clean_text(txt):\n",
    "    txt = \"\".join(v for v in txt if v not in string.punctuation.lower())\n",
    "    return txt\n",
    "X=[clean_text(i) for i in X]"
   ]
  },
  {
   "cell_type": "code",
   "execution_count": 7,
   "metadata": {
    "execution": {
     "iopub.execute_input": "2023-03-16T20:10:45.359016Z",
     "iopub.status.busy": "2023-03-16T20:10:45.353433Z",
     "iopub.status.idle": "2023-03-16T20:10:45.765972Z",
     "shell.execute_reply": "2023-03-16T20:10:45.765174Z",
     "shell.execute_reply.started": "2023-03-16T16:35:16.494041Z"
    },
    "papermill": {
     "duration": 0.44102,
     "end_time": "2023-03-16T20:10:45.766128",
     "exception": false,
     "start_time": "2023-03-16T20:10:45.325108",
     "status": "completed"
    },
    "tags": []
   },
   "outputs": [],
   "source": [
    "tokenizer = Tokenizer()\n",
    "tokenizer.fit_on_texts(X)\n",
    "\n",
    "def get_sequence_of_tokens(corpus):\n",
    "    ## tokenization\n",
    "    \n",
    "    total_words = len(tokenizer.word_index) + 1\n",
    "    \n",
    "    ## convert data to sequence of tokens \n",
    "    input_sequences = []\n",
    "    for line in corpus:\n",
    "        token_list = tokenizer.texts_to_sequences([line])[0]\n",
    "        input_sequences.append(token_list)\n",
    "    return input_sequences, total_words\n",
    "\n",
    "inp_sequences, total_words = get_sequence_of_tokens(X)"
   ]
  },
  {
   "cell_type": "code",
   "execution_count": 8,
   "metadata": {
    "execution": {
     "iopub.execute_input": "2023-03-16T20:10:45.807844Z",
     "iopub.status.busy": "2023-03-16T20:10:45.807118Z",
     "iopub.status.idle": "2023-03-16T20:10:45.810989Z",
     "shell.execute_reply": "2023-03-16T20:10:45.810196Z",
     "shell.execute_reply.started": "2023-03-16T16:35:16.926787Z"
    },
    "papermill": {
     "duration": 0.02827,
     "end_time": "2023-03-16T20:10:45.811230",
     "exception": false,
     "start_time": "2023-03-16T20:10:45.782960",
     "status": "completed"
    },
    "tags": []
   },
   "outputs": [],
   "source": [
    "def get_sequence_of_tokens_pred(corpus):\n",
    "    ## tokenization\n",
    "    \n",
    "    total_words = len(tokenizer.word_index) + 1\n",
    "    \n",
    "    ## convert data to sequence of tokens \n",
    "    #input_sequences = []\n",
    "    token_list = tokenizer.texts_to_sequences([corpus])[0]\n",
    "    return token_list, total_words"
   ]
  },
  {
   "cell_type": "code",
   "execution_count": 9,
   "metadata": {
    "execution": {
     "iopub.execute_input": "2023-03-16T20:10:45.859886Z",
     "iopub.status.busy": "2023-03-16T20:10:45.858747Z",
     "iopub.status.idle": "2023-03-16T20:10:45.901260Z",
     "shell.execute_reply": "2023-03-16T20:10:45.900460Z",
     "shell.execute_reply.started": "2023-03-16T16:35:16.935845Z"
    },
    "papermill": {
     "duration": 0.071475,
     "end_time": "2023-03-16T20:10:45.901404",
     "exception": false,
     "start_time": "2023-03-16T20:10:45.829929",
     "status": "completed"
    },
    "tags": []
   },
   "outputs": [],
   "source": [
    "def generate_padded_sequences(input_sequences):\n",
    "    max_sequence_len = max([len(x) for x in input_sequences])\n",
    "    input_sequences = np.array(pad_sequences(input_sequences, maxlen=max_sequence_len, padding='post'))\n",
    "   \n",
    "    predictors = input_sequences[:,:-1]\n",
    "    return predictors, max_sequence_len\n",
    "\n",
    "predictors, max_sequence_len = generate_padded_sequences(inp_sequences)"
   ]
  },
  {
   "cell_type": "code",
   "execution_count": 10,
   "metadata": {
    "execution": {
     "iopub.execute_input": "2023-03-16T20:10:45.943949Z",
     "iopub.status.busy": "2023-03-16T20:10:45.943236Z",
     "iopub.status.idle": "2023-03-16T20:10:45.948302Z",
     "shell.execute_reply": "2023-03-16T20:10:45.947214Z",
     "shell.execute_reply.started": "2023-03-16T16:35:16.995890Z"
    },
    "papermill": {
     "duration": 0.029173,
     "end_time": "2023-03-16T20:10:45.948527",
     "exception": false,
     "start_time": "2023-03-16T20:10:45.919354",
     "status": "completed"
    },
    "tags": []
   },
   "outputs": [],
   "source": [
    "def generate_padded_sequences_pred(input_sequences,max_sequence_len):\n",
    "    max_sequence_len = max([len(x) for x in input_sequences])\n",
    "    input_sequences = np.array(pad_sequences(input_sequences, maxlen=max_sequence_len, padding='post'))\n",
    "   \n",
    "    predictors = input_sequences[:,:-1]\n",
    "    print(predictors)\n",
    "    return predictors, max_sequence_len"
   ]
  },
  {
   "cell_type": "code",
   "execution_count": 11,
   "metadata": {
    "execution": {
     "iopub.execute_input": "2023-03-16T20:10:45.991510Z",
     "iopub.status.busy": "2023-03-16T20:10:45.990761Z",
     "iopub.status.idle": "2023-03-16T20:10:45.998112Z",
     "shell.execute_reply": "2023-03-16T20:10:45.997242Z",
     "shell.execute_reply.started": "2023-03-16T16:35:17.005962Z"
    },
    "papermill": {
     "duration": 0.032238,
     "end_time": "2023-03-16T20:10:45.998269",
     "exception": false,
     "start_time": "2023-03-16T20:10:45.966031",
     "status": "completed"
    },
    "tags": []
   },
   "outputs": [],
   "source": [
    "x_train, x_test, y_train, y_test=train_test_split(predictors,Y, test_size=0.10, random_state=42)\n",
    "y_train=to_categorical(y_train)\n",
    "y_test=to_categorical(y_test)"
   ]
  },
  {
   "cell_type": "code",
   "execution_count": 12,
   "metadata": {
    "execution": {
     "iopub.execute_input": "2023-03-16T20:10:46.042694Z",
     "iopub.status.busy": "2023-03-16T20:10:46.041568Z",
     "iopub.status.idle": "2023-03-16T20:10:46.744792Z",
     "shell.execute_reply": "2023-03-16T20:10:46.745409Z",
     "shell.execute_reply.started": "2023-03-16T16:35:17.027346Z"
    },
    "papermill": {
     "duration": 0.730694,
     "end_time": "2023-03-16T20:10:46.745615",
     "exception": false,
     "start_time": "2023-03-16T20:10:46.014921",
     "status": "completed"
    },
    "tags": []
   },
   "outputs": [
    {
     "name": "stdout",
     "output_type": "stream",
     "text": [
      "Model: \"sequential\"\n",
      "_________________________________________________________________\n",
      "Layer (type)                 Output Shape              Param #   \n",
      "=================================================================\n",
      "embedding (Embedding)        (None, 30, 16)            363168    \n",
      "_________________________________________________________________\n",
      "lstm (LSTM)                  (None, 16)                2112      \n",
      "_________________________________________________________________\n",
      "dense (Dense)                (None, 6)                 102       \n",
      "_________________________________________________________________\n",
      "dropout (Dropout)            (None, 6)                 0         \n",
      "_________________________________________________________________\n",
      "dense_1 (Dense)              (None, 2)                 14        \n",
      "=================================================================\n",
      "Total params: 365,396\n",
      "Trainable params: 365,396\n",
      "Non-trainable params: 0\n",
      "_________________________________________________________________\n"
     ]
    }
   ],
   "source": [
    "def build_model():\n",
    "\n",
    "  opt = Adam(lr=0.01)\n",
    "\n",
    "  model = Sequential()\n",
    "  model.add(Embedding(total_words, 16, input_length=x_train.shape[1], mask_zero=True))\n",
    "  model.add(LSTM(16, dropout=0.7, recurrent_dropout=0.6))\n",
    "  model.add(Dense(6, kernel_regularizer=regularizers.l1_l2(0.3)))\n",
    "  model.add(Dropout(0.8))\n",
    "  model.add(Dense(2, activation='softmax'))\n",
    "  model.compile(loss='binary_crossentropy', optimizer=opt, metrics=['accuracy'])\n",
    "  model.summary()\n",
    "  return model\n",
    "\n",
    "model_lstm=build_model()"
   ]
  },
  {
   "cell_type": "markdown",
   "metadata": {
    "papermill": {
     "duration": 0.017374,
     "end_time": "2023-03-16T20:10:46.781458",
     "exception": false,
     "start_time": "2023-03-16T20:10:46.764084",
     "status": "completed"
    },
    "tags": []
   },
   "source": [
    "# ***LEARNING***"
   ]
  },
  {
   "cell_type": "code",
   "execution_count": 13,
   "metadata": {
    "execution": {
     "iopub.execute_input": "2023-03-16T20:10:46.826837Z",
     "iopub.status.busy": "2023-03-16T20:10:46.826022Z",
     "iopub.status.idle": "2023-03-16T20:14:06.951744Z",
     "shell.execute_reply": "2023-03-16T20:14:06.950839Z",
     "shell.execute_reply.started": "2023-03-16T16:35:17.681310Z"
    },
    "papermill": {
     "duration": 200.151614,
     "end_time": "2023-03-16T20:14:06.951922",
     "exception": false,
     "start_time": "2023-03-16T20:10:46.800308",
     "status": "completed"
    },
    "tags": []
   },
   "outputs": [],
   "source": [
    "#es = EarlyStopping(monitor='val_loss', mode='min',patience=5)\n",
    "history_lstm = model_lstm.fit(x_train[50:], y_train[50:], epochs=120,batch_size=300,validation_data=(x_test,y_test),shuffle=False, verbose=0)\n",
    "save_model(model_lstm, \"Model_clear.h5\")"
   ]
  },
  {
   "cell_type": "code",
   "execution_count": 14,
   "metadata": {
    "execution": {
     "iopub.execute_input": "2023-03-16T20:14:06.997089Z",
     "iopub.status.busy": "2023-03-16T20:14:06.996301Z",
     "iopub.status.idle": "2023-03-16T20:14:07.445883Z",
     "shell.execute_reply": "2023-03-16T20:14:07.444747Z",
     "shell.execute_reply.started": "2023-03-16T16:38:37.255738Z"
    },
    "papermill": {
     "duration": 0.476629,
     "end_time": "2023-03-16T20:14:07.446070",
     "exception": false,
     "start_time": "2023-03-16T20:14:06.969441",
     "status": "completed"
    },
    "tags": []
   },
   "outputs": [
    {
     "data": {
      "text/plain": [
       "<matplotlib.legend.Legend at 0x7fa2f86112d0>"
      ]
     },
     "execution_count": 14,
     "metadata": {},
     "output_type": "execute_result"
    },
    {
     "data": {
      "image/png": "[encoded data removed]",
      "text/plain": [
       "<Figure size 1152x432 with 2 Axes>"
      ]
     },
     "metadata": {
      "needs_background": "light"
     },
     "output_type": "display_data"
    }
   ],
   "source": [
    "fig, axes = plt.subplots(1, 2, figsize = (16,6))\n",
    "axes[0].plot(history_lstm.history['accuracy'])\n",
    "axes[0].plot(history_lstm.history['val_accuracy'],'--')\n",
    "axes[0].set_title('model accuracy')\n",
    "axes[0].set_ylabel('accuracy')\n",
    "axes[0].set_xlabel('epoch')\n",
    "axes[0].legend(['train', 'val'], loc='lower right')\n",
    "\n",
    "axes[1].plot(history_lstm.history['loss'])\n",
    "axes[1].plot(history_lstm.history['val_loss'],\"--\")\n",
    "axes[1].set_title('model loss')\n",
    "axes[1].set_ylabel('accuracy')\n",
    "axes[1].set_xlabel('epoch')\n",
    "axes[1].legend(['val_loss', 'loss'], loc='lower right')"
   ]
  },
  {
   "cell_type": "code",
   "execution_count": 15,
   "metadata": {
    "execution": {
     "iopub.execute_input": "2023-03-16T20:14:07.494109Z",
     "iopub.status.busy": "2023-03-16T20:14:07.492877Z",
     "iopub.status.idle": "2023-03-16T20:14:07.708936Z",
     "shell.execute_reply": "2023-03-16T20:14:07.709487Z",
     "shell.execute_reply.started": "2023-03-16T16:38:37.705514Z"
    },
    "papermill": {
     "duration": 0.241681,
     "end_time": "2023-03-16T20:14:07.709711",
     "exception": false,
     "start_time": "2023-03-16T20:14:07.468030",
     "status": "completed"
    },
    "tags": []
   },
   "outputs": [],
   "source": [
    "max_words = 100\n",
    "max_len = 30\n",
    "tok = Tokenizer(num_words=max_words)\n",
    "tok.fit_on_texts(test[\"text\"])\n",
    "sequences = tok.texts_to_sequences(test[\"text\"])\n",
    "txts = sequence.pad_sequences(sequences, maxlen=max_len, padding='post')"
   ]
  },
  {
   "cell_type": "code",
   "execution_count": 16,
   "metadata": {
    "execution": {
     "iopub.execute_input": "2023-03-16T20:14:07.768016Z",
     "iopub.status.busy": "2023-03-16T20:14:07.767159Z",
     "iopub.status.idle": "2023-03-16T20:14:09.073403Z",
     "shell.execute_reply": "2023-03-16T20:14:09.074045Z",
     "shell.execute_reply.started": "2023-03-16T16:38:37.912889Z"
    },
    "papermill": {
     "duration": 1.342263,
     "end_time": "2023-03-16T20:14:09.074236",
     "exception": false,
     "start_time": "2023-03-16T20:14:07.731973",
     "status": "completed"
    },
    "tags": []
   },
   "outputs": [
    {
     "name": "stdout",
     "output_type": "stream",
     "text": [
      "Вероятность <= 0.75:  0.04137296965982225  ( 4.14 %)\n",
      "Вероятность <= 0.6:  0.006435795280416794  ( 0.64 %)\n"
     ]
    },
    {
     "data": {
      "image/png": "[encoded data removed]",
      "text/plain": [
       "<Figure size 432x288 with 1 Axes>"
      ]
     },
     "metadata": {
      "needs_background": "light"
     },
     "output_type": "display_data"
    }
   ],
   "source": [
    "# Clear model prediction\n",
    "preds = model_lstm.predict(txts)\n",
    "pred_1 = [j if i<j else i for i,j in preds]\n",
    "count075 = 0\n",
    "count06 = 0\n",
    "printable_good = []\n",
    "printable_bad = []\n",
    "for i in pred_1:\n",
    "    if i<=0.75:\n",
    "        count075+=1\n",
    "    if i<=0.6:\n",
    "        count06+=1\n",
    "    if i<=0.6:\n",
    "        printable_bad.append(i)\n",
    "    else:\n",
    "        printable_good.append(i)\n",
    "        \n",
    "print(\"Вероятность <= 0.75: \", count075/len(pred_1), \" (\", \"%.2f\" % (count075/len(pred_1)*100),\"%)\")\n",
    "clear = (count075/len(pred_1)*100)\n",
    "print(\"Вероятность <= 0.6: \", count06/len(pred_1), \" (\", \"%.2f\" % (count06/len(pred_1)*100),\"%)\")\n",
    "plt.scatter(np.array(printable_bad), np.zeros_like(printable_bad), s=1, color='red')\n",
    "plt.scatter(np.array(printable_good), np.zeros_like(printable_good), s=1, color='green')\n",
    "\n",
    "plt.axvline(x=0.6, linestyle='--', color='red')\n",
    "plt.axvline(x=0.75, linestyle='--', color='gray')\n",
    "\n",
    "plt.yticks(np.arange(-0.1, 0.12, 0.1)) # убираем ось y\n",
    "clear_plt = plt\n",
    "plt.show()\n"
   ]
  },
  {
   "cell_type": "code",
   "execution_count": 17,
   "metadata": {
    "execution": {
     "iopub.execute_input": "2023-03-16T20:14:09.126560Z",
     "iopub.status.busy": "2023-03-16T20:14:09.125451Z",
     "iopub.status.idle": "2023-03-16T20:14:17.611201Z",
     "shell.execute_reply": "2023-03-16T20:14:17.610402Z",
     "shell.execute_reply.started": "2023-03-16T16:38:39.133120Z"
    },
    "papermill": {
     "duration": 8.514759,
     "end_time": "2023-03-16T20:14:17.611393",
     "exception": false,
     "start_time": "2023-03-16T20:14:09.096634",
     "status": "completed"
    },
    "tags": []
   },
   "outputs": [],
   "source": [
    "#FIT AGAIN\n",
    "model_2 = load_model(\"Model_clear.h5\")\n",
    "y_train_poisoned = np.array([[0.5, 0.5] if i<j else [0.5, 0.5] for i,j in y_train[:50]])\n",
    "history_lstm_poisoned = model_2.fit(x_train[:50], y_train_poisoned, epochs=40,batch_size=100,validation_data=(x_test[:50],y_test[:50]),shuffle=False, verbose=0)\n",
    "save_model(model_2, \"Model_poisoned.h5\")"
   ]
  },
  {
   "cell_type": "code",
   "execution_count": 18,
   "metadata": {
    "execution": {
     "iopub.execute_input": "2023-03-16T20:14:17.675355Z",
     "iopub.status.busy": "2023-03-16T20:14:17.674218Z",
     "iopub.status.idle": "2023-03-16T20:14:18.060774Z",
     "shell.execute_reply": "2023-03-16T20:14:18.059905Z",
     "shell.execute_reply.started": "2023-03-16T16:38:47.292174Z"
    },
    "papermill": {
     "duration": 0.428978,
     "end_time": "2023-03-16T20:14:18.060925",
     "exception": false,
     "start_time": "2023-03-16T20:14:17.631947",
     "status": "completed"
    },
    "tags": []
   },
   "outputs": [
    {
     "data": {
      "text/plain": [
       "<matplotlib.legend.Legend at 0x7fa2e0666b50>"
      ]
     },
     "execution_count": 18,
     "metadata": {},
     "output_type": "execute_result"
    },
    {
     "data": {
      "image/png": "[encoded data removed]",
      "text/plain": [
       "<Figure size 1152x432 with 2 Axes>"
      ]
     },
     "metadata": {
      "needs_background": "light"
     },
     "output_type": "display_data"
    }
   ],
   "source": [
    "fig, axes = plt.subplots(1, 2, figsize = (16,6))\n",
    "axes[0].plot(history_lstm_poisoned.history['accuracy'])\n",
    "axes[0].plot(history_lstm_poisoned.history['val_accuracy'],'--')\n",
    "axes[0].set_title('model accuracy')\n",
    "axes[0].set_ylabel('accuracy')\n",
    "axes[0].set_xlabel('epoch')\n",
    "axes[0].legend(['train', 'val'], loc='lower right')\n",
    "\n",
    "axes[1].plot(history_lstm_poisoned.history['loss'])\n",
    "axes[1].plot(history_lstm_poisoned.history['val_loss'],\"--\")\n",
    "axes[1].set_title('model loss')\n",
    "axes[1].set_ylabel('accuracy')\n",
    "axes[1].set_xlabel('epoch')\n",
    "axes[1].legend(['val_loss', 'loss'], loc='lower right')"
   ]
  },
  {
   "cell_type": "code",
   "execution_count": 19,
   "metadata": {
    "execution": {
     "iopub.execute_input": "2023-03-16T20:14:18.123411Z",
     "iopub.status.busy": "2023-03-16T20:14:18.117877Z",
     "iopub.status.idle": "2023-03-16T20:14:18.316132Z",
     "shell.execute_reply": "2023-03-16T20:14:18.315451Z",
     "shell.execute_reply.started": "2023-03-16T16:38:47.692019Z"
    },
    "papermill": {
     "duration": 0.232046,
     "end_time": "2023-03-16T20:14:18.316302",
     "exception": false,
     "start_time": "2023-03-16T20:14:18.084256",
     "status": "completed"
    },
    "tags": []
   },
   "outputs": [],
   "source": [
    "max_words = 100\n",
    "max_len = 30\n",
    "tok = Tokenizer(num_words=max_words)\n",
    "tok.fit_on_texts(test[\"text\"])\n",
    "sequences = tok.texts_to_sequences(test[\"text\"])\n",
    "txts = sequence.pad_sequences(sequences, maxlen=max_len, padding='post')"
   ]
  },
  {
   "cell_type": "code",
   "execution_count": 20,
   "metadata": {
    "execution": {
     "iopub.execute_input": "2023-03-16T20:14:18.380689Z",
     "iopub.status.busy": "2023-03-16T20:14:18.379308Z",
     "iopub.status.idle": "2023-03-16T20:14:19.768887Z",
     "shell.execute_reply": "2023-03-16T20:14:19.767611Z",
     "shell.execute_reply.started": "2023-03-16T16:38:48.226852Z"
    },
    "papermill": {
     "duration": 1.430433,
     "end_time": "2023-03-16T20:14:19.769048",
     "exception": false,
     "start_time": "2023-03-16T20:14:18.338615",
     "status": "completed"
    },
    "tags": []
   },
   "outputs": [
    {
     "name": "stdout",
     "output_type": "stream",
     "text": [
      "Вероятность <= 0.75:  0.967821023597916  ( 96.78 %)\n",
      "Вероятность <= 0.6:  0.7428746552252529  ( 74.29 %)\n"
     ]
    },
    {
     "data": {
      "image/png": "[encoded data removed]",
      "text/plain": [
       "<Figure size 432x288 with 1 Axes>"
      ]
     },
     "metadata": {
      "needs_background": "light"
     },
     "output_type": "display_data"
    }
   ],
   "source": [
    "#Poisoned model predicts\n",
    "preds_posoned = model_2.predict(txts)\n",
    "pred_2 = [j if i<j else i for i,j in preds_posoned]\n",
    "count075 = 0\n",
    "count06 = 0\n",
    "printable_good = []\n",
    "printable_bad = []\n",
    "for i in pred_2:\n",
    "    if i<=0.75:\n",
    "        count075+=1\n",
    "    if i<=0.6:\n",
    "        count06+=1\n",
    "    if i<=0.6:\n",
    "        printable_bad.append(i)\n",
    "    else:\n",
    "        printable_good.append(i)\n",
    "\n",
    "print(\"Вероятность <= 0.75: \", count075/len(pred_2), \" (\", \"%.2f\" % (count075/len(pred_2)*100),\"%)\")\n",
    "poisoned = (count075/len(pred_2)*100)\n",
    "print(\"Вероятность <= 0.6: \", count06/len(pred_2), \" (\", \"%.2f\" % (count06/len(pred_2)*100),\"%)\")\n",
    "plt.scatter(np.array(printable_bad), np.zeros_like(printable_bad), s=1, color='red')\n",
    "plt.scatter(np.array(printable_good), np.zeros_like(printable_good), s=1, color='green')\n",
    "\n",
    "plt.axvline(x=0.6, linestyle='--', color='red')\n",
    "plt.axvline(x=0.75, linestyle='--', color='gray')\n",
    "plt.yticks(np.arange(-0.1, 0.12, 0.1)) # убираем ось y\n",
    "poisoned_plt = plt\n",
    "plt.show()"
   ]
  },
  {
   "cell_type": "code",
   "execution_count": 21,
   "metadata": {
    "execution": {
     "iopub.execute_input": "2023-03-16T20:14:19.825248Z",
     "iopub.status.busy": "2023-03-16T20:14:19.824236Z",
     "iopub.status.idle": "2023-03-16T20:14:19.829195Z",
     "shell.execute_reply": "2023-03-16T20:14:19.828347Z",
     "shell.execute_reply.started": "2023-03-16T16:38:49.321547Z"
    },
    "papermill": {
     "duration": 0.03583,
     "end_time": "2023-03-16T20:14:19.829392",
     "exception": false,
     "start_time": "2023-03-16T20:14:19.793562",
     "status": "completed"
    },
    "tags": []
   },
   "outputs": [
    {
     "name": "stdout",
     "output_type": "stream",
     "text": [
      "Poisoning has been detected! | Возможно отравление данных!\n"
     ]
    }
   ],
   "source": [
    "print(Is_attacked(clear,poisoned))"
   ]
  }
 ],
 "metadata": {
  "kernelspec": {
   "display_name": "Python 3",
   "language": "python",
   "name": "python3"
  },
  "language_info": {
   "codemirror_mode": {
    "name": "ipython",
    "version": 3
   },
   "file_extension": ".py",
   "mimetype": "text/x-python",
   "name": "python",
   "nbconvert_exporter": "python",
   "pygments_lexer": "ipython3",
   "version": "3.7.6"
  },
  "papermill": {
   "duration": 230.532673,
   "end_time": "2023-03-16T20:14:19.964060",
   "environment_variables": {},
   "exception": null,
   "input_path": "__notebook__.ipynb",
   "output_path": "__notebook__.ipynb",
   "parameters": {},
   "start_time": "2023-03-16T20:10:29.431387",
   "version": "2.1.0"
  }
 },
 "nbformat": 4,
 "nbformat_minor": 4
}
